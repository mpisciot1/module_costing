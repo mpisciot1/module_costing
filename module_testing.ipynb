{
 "cells": [
  {
   "cell_type": "code",
   "execution_count": 3,
   "metadata": {},
   "outputs": [],
   "source": [
    "import math"
   ]
  },
  {
   "cell_type": "code",
   "execution_count": 38,
   "metadata": {},
   "outputs": [],
   "source": [
    "def blenderCapCost(blenderType, minSize):\n",
    "    config = blenderType\n",
    "    size = minSize*1.2\n",
    "    kneaderMin = 0.14\n",
    "    kneaderMax = 3\n",
    "    ribbonMin = 0.7\n",
    "    ribbonMax = 11\n",
    "\n",
    "    if config == 'kneader':\n",
    "        k1 = 5.0141\n",
    "        k2 = 0.5867\n",
    "        k3 = 0.3224\n",
    "        if size > kneaderMax:\n",
    "            count = math.ceil(size/kneaderMax)\n",
    "            avgSize = math.ceil(size/count)\n",
    "        else:\n",
    "            count = 1\n",
    "            avgSize = size\n",
    "    elif config == 'ribbon' or config == 'rotary':\n",
    "            k1 = 4.1366\n",
    "            k2 = 0.5072\n",
    "            k3 = 0.0070\n",
    "            if size > ribbonMax:\n",
    "                count = math.ceil(size/ribbonMax)\n",
    "                avgSize = math.ceil(size/count)\n",
    "            else:\n",
    "                count = 1\n",
    "                avgSize = size\n",
    "    else:\n",
    "        raise TypeError\n",
    "    \n",
    "    cost = 10**(k1 + k2*math.log(avgSize) + k3*(math.log(avgSize))**2)*count\n",
    "    print(f'This application requires {count} blenders of {round(avgSize,1)} kW, each costing ${round(cost/count,2)}, totalling ${round(cost,2)}')\n",
    "    return [count, cost]"
   ]
  },
  {
   "cell_type": "code",
   "execution_count": 39,
   "metadata": {},
   "outputs": [
    {
     "name": "stdout",
     "output_type": "stream",
     "text": [
      "This application requires 2 blenders of 6 kW, each costing $116910.42, totalling $233820.84\n"
     ]
    }
   ],
   "source": [
    "blendCount, blendCost = blenderCapCost('ribbon',10)"
   ]
  },
  {
   "cell_type": "code",
   "execution_count": null,
   "metadata": {},
   "outputs": [],
   "source": []
  }
 ],
 "metadata": {
  "kernelspec": {
   "display_name": "base",
   "language": "python",
   "name": "python3"
  },
  "language_info": {
   "codemirror_mode": {
    "name": "ipython",
    "version": 3
   },
   "file_extension": ".py",
   "mimetype": "text/x-python",
   "name": "python",
   "nbconvert_exporter": "python",
   "pygments_lexer": "ipython3",
   "version": "3.12.4"
  }
 },
 "nbformat": 4,
 "nbformat_minor": 2
}
